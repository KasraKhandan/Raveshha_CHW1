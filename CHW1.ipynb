{
  "cells": [
    {
      "attachments": {},
      "cell_type": "markdown",
      "metadata": {
        "id": "6DjNbXa-VC9M"
      },
      "source": [
        "<h1 align=\"center\">Mathematical Methods In Engineering - 25872</h1>\n",
        "<h4 align=\"center\">Dr. Amiri</h4>\n",
        "<h4 align=\"center\">Sharif University of Technology, Fall 2023</h4>\n",
        "<h4 align=\"center\">Python Assignment 1</h4>\n",
        "<h4 align=\"center\">feel free to ask your questions via telegram,\n",
        "\n",
        "questions 1,4 : @BeNameBalasari and questions 2,3,5 : @maahmoradi"
      ]
    },
    {
      "attachments": {},
      "cell_type": "markdown",
      "metadata": {},
      "source": [
        "You should write your code in the <font color='green'>Code Cell</font> and then run the <font color='green'>Evaluation Cell</font> to check the output of your code.<br>\n",
        "<font color='red'>**Please do not edit the existing codes.**</font>"
      ]
    },
    {
      "attachments": {},
      "cell_type": "markdown",
      "metadata": {
        "id": "bggG3YqIVC9U"
      },
      "source": [
        "## 1. Introduction to matrices\n",
        "In this question, we want to get familiar with performing simple matrix operations and obtaining special features of matrices in Python <br>\n",
        "#### 1-1-  Vector P-Norm\n",
        " Let $p\\geq 1$  be  a real   number . The  p-norm ( also called \n",
        "$\\ell ^{p}$-norm) of  vector \n",
        "${\\displaystyle \\mathbf {x} =(x_{1},\\ldots ,x_{n})}$  is : \n",
        "${\\displaystyle \\|\\mathbf {x} \\|_{p}:=\\left(\\sum _{i=1}^{n}\\left|x_{i}\\right|^{p}\\right)^{1/p}}$ and\n",
        "${\\displaystyle \\|\\mathbf {x} \\|_{\\infty}:=max(|x_1| , |x_2| , \\cdots ,|x_n|)}$ \n",
        "> Write a function that takes a vector and p as input and gives p-norm as output then use it to calculate the norm-3 of the  following vector ( if the p is np.inf the function should give the infinity norm of the matrix ) :\n",
        "$$\n",
        "x = \\left(\\begin{array}{cc} \n",
        "-3.0\\\\ 1.0 \\\\2.0\n",
        "\\end{array}\\right)\n",
        "$$\n",
        "> then use np.linalg.norm to check your answer "
      ]
    },
    {
      "cell_type": "code",
      "execution_count": null,
      "metadata": {},
      "outputs": [],
      "source": [
        "# import required packages\n",
        "import numpy as np"
      ]
    },
    {
      "cell_type": "code",
      "execution_count": 2,
      "metadata": {
        "id": "ZzFnxtOIVC9W"
      },
      "outputs": [
        {
          "name": "stdout",
          "output_type": "stream",
          "text": [
            "3-norm: 3.3019272488946263\n",
            "Check with np.linalg.norm: 3.3019272488946263\n"
          ]
        }
      ],
      "source": [
        "def pnorm(x, p):\n",
        "    if p == np.inf:\n",
        "        return np.max(np.abs(x))\n",
        "    else:\n",
        "        return np.linalg.norm(x, ord=p)\n",
        "\n",
        "# Input vector\n",
        "x = np.array([-3.0, 1.0, 2.0])\n",
        "\n",
        "# Input p\n",
        "p = input(\"Enter the value of p (enter 'inf' for infinity norm): \")\n",
        "\n",
        "try:\n",
        "    # Calculate p-norm using the defined function\n",
        "    result = pnorm(x, float(p))\n",
        "    print(f\"{p}-norm:\", result)\n",
        "    \n",
        "    # Check the result using np.linalg.norm\n",
        "    np_result = np.linalg.norm(x, ord=float(p))\n",
        "    print(\"Check with np.linalg.norm:\", np_result)\n",
        "    \n",
        "except ValueError as e:\n",
        "    print(\"Error:\", e)\n"
      ]
    },
    {
      "attachments": {},
      "cell_type": "markdown",
      "metadata": {},
      "source": [
        "#### 1-2- Matrix Norm\n",
        " The \n",
        " operator  norm of matrix $ \\mathbf{A}  $ is : \n",
        "${\\displaystyle \\|\\mathbf {A} \\|:=\\max\\limits_{x\\neq 0}\\left(\\frac{||Ax||}{||x||}\\right)}$\n",
        "\n",
        "and  The Frobenius  norm  is defined  so \n",
        "that   for  every  square  matrix $ \\mathbf{A} $ : ${\\displaystyle \\|\\mathbf {A} \\|_F:=\\left(\\sum_{i,j=1}^{n}(|a_{ij}|^2)\\right)^\\frac{1}{2}}$\n",
        "\n",
        "> Write a function that takes a Matrix  as input and gives frobenius norm as output then use it to calculate the norm of the  following Matrix :\n",
        "$$\n",
        "A = \\begin{bmatrix}\n",
        "    7 & 5 & 1\\\\\n",
        "    1 & 7 & 1\\\\\n",
        "    5 & 5 & 7\n",
        "\\end{bmatrix}\n",
        "$$\n",
        "> then use np.linalg.norm to check your answer and use it to calculate the operator norm of A "
      ]
    },
    {
      "cell_type": "code",
      "execution_count": 3,
      "metadata": {},
      "outputs": [
        {
          "name": "stdout",
          "output_type": "stream",
          "text": [
            "Frobenius norm: 15.0\n",
            "Check with np.linalg.norm: 15.0\n"
          ]
        }
      ],
      "source": [
        "def frobenius_norm(A):\n",
        "    return np.linalg.norm(A, ord='fro')\n",
        "\n",
        "# Given matrix A\n",
        "A = np.array([[7, 5, 1],\n",
        "              [1, 7, 1],\n",
        "              [5, 5, 7]])\n",
        "\n",
        "# Calculate Frobenius norm using the defined function\n",
        "frobenius_result = frobenius_norm(A)\n",
        "print(\"Frobenius norm:\", frobenius_result)\n",
        "\n",
        "# Check the result using np.linalg.norm\n",
        "np_result = np.linalg.norm(A, ord='fro')\n",
        "print(\"Check with np.linalg.norm:\", np_result)\n"
      ]
    },
    {
      "attachments": {},
      "cell_type": "markdown",
      "metadata": {},
      "source": [
        "#### 1-3- Matrix Determinant And Matrix inverse \n",
        "Laplace expansion expresses the determinant of a matrix \n",
        "A recursively in terms of determinants of smaller matrices, known as its minors. The minor \n",
        ", $M_{i,j}$ is defined to be the determinant of the \n",
        "${\\displaystyle (n-1)\\times (n-1)}$ matrix that results from \n",
        "A by removing the \n",
        "i-th row and the \n",
        "j-th column. The expression \n",
        "${\\displaystyle (-1)^{i+j}M_{i,j}}$  is known as a cofactor. For every \n",
        "i, one has the equality :\n",
        "$$\n",
        "det(\\mathbf{A})=\\sum_{j=1}^n\\left((-1)^{i+j}a_{ij}M_{ij}\\right)\n",
        "$$\n",
        "> Write a function that takes a Matrix  as input and gives Determinant as output then use it to calculate the Determinant of the  following Matrix :\n",
        "$$\n",
        "A = \\begin{bmatrix}\n",
        "    7 & 5 & 1\\\\\n",
        "    1 & 7 & 1\\\\\n",
        "    5 & 5 & 7\n",
        "\\end{bmatrix}\n",
        "$$\n",
        "> then use np.linalg.det to check your answer "
      ]
    },
    {
      "cell_type": "code",
      "execution_count": 4,
      "metadata": {},
      "outputs": [
        {
          "name": "stdout",
          "output_type": "stream",
          "text": [
            "Determinant using custom function: 268\n",
            "Determinant using np.linalg.det: 267.99999999999994\n"
          ]
        }
      ],
      "source": [
        "def minor(matrix, row, col):\n",
        "    return np.delete(np.delete(matrix, row, axis=0), col, axis=1)\n",
        "\n",
        "def determinant(matrix):\n",
        "    n = len(matrix)\n",
        "    if n == 1:\n",
        "        return matrix[0, 0]\n",
        "    \n",
        "    det = 0\n",
        "    for j in range(n):\n",
        "        det += (-1) ** j * matrix[0, j] * determinant(minor(matrix, 0, j))\n",
        "    \n",
        "    return det\n",
        "\n",
        "# Given matrix A\n",
        "A = np.array([[7, 5, 1],\n",
        "              [1, 7, 1],\n",
        "              [5, 5, 7]])\n",
        "\n",
        "# Calculate determinant using the custom function\n",
        "det_A_custom = determinant(A)\n",
        "print(\"Determinant using custom function:\", det_A_custom)\n",
        "\n",
        "# Check the result using np.linalg.det\n",
        "det_A_np = np.linalg.det(A)\n",
        "print(\"Determinant using np.linalg.det:\", det_A_np)\n"
      ]
    },
    {
      "attachments": {},
      "cell_type": "markdown",
      "metadata": {},
      "source": [
        "The inverse of a Matrix is defined as : \n",
        "$$\n",
        "\\mathbf{A}^{-1}=\\frac{adj(A)}{det(A)}\n",
        "$$\n",
        "The adjugate of $\\mathbf{A} \\ adj(\\mathbf{A})$ is the transpose of $\\mathbf{C}$, that is, the n × n matrix whose (i, j) entry is the (j, i) cofactor of A,\n",
        "$$\n",
        "adj(\\mathbf{A})=\\mathbf{C}^T=\\left((-1)^{i+j}M_{ji}\\right)_{1 \\leq i,j \\leq n}\n",
        "$$\n",
        "> Write a function that takes a Matrix  as input and gives inverse of Matrix as output then use it to calculate the inverse of the  following Matrix :\n",
        "$$\n",
        "A = \\begin{bmatrix}\n",
        "    7 & 5 & 1\\\\\n",
        "    1 & 7 & 1\\\\\n",
        "    5 & 5 & 7\n",
        "\\end{bmatrix}\n",
        "$$\n",
        "> then use np.linalg.inv to check your answer "
      ]
    },
    {
      "cell_type": "code",
      "execution_count": 5,
      "metadata": {},
      "outputs": [
        {
          "name": "stdout",
          "output_type": "stream",
          "text": [
            "Inverse using custom function:\n",
            " [[ 0.1641791  -0.1119403  -0.00746269]\n",
            " [-0.00746269  0.1641791  -0.02238806]\n",
            " [-0.1119403  -0.03731343  0.1641791 ]]\n",
            "Inverse using np.linalg.inv:\n",
            " [[ 0.1641791  -0.1119403  -0.00746269]\n",
            " [-0.00746269  0.1641791  -0.02238806]\n",
            " [-0.1119403  -0.03731343  0.1641791 ]]\n"
          ]
        }
      ],
      "source": [
        "def minor(matrix, row, col):\n",
        "    return np.delete(np.delete(matrix, row, axis=0), col, axis=1)\n",
        "\n",
        "def determinant(matrix):\n",
        "    n = len(matrix)\n",
        "    if n == 1:\n",
        "        return matrix[0, 0]\n",
        "    \n",
        "    det = 0\n",
        "    for j in range(n):\n",
        "        det += (-1) ** j * matrix[0, j] * determinant(minor(matrix, 0, j))\n",
        "    \n",
        "    return det\n",
        "\n",
        "def adjugate(matrix):\n",
        "    n = len(matrix)\n",
        "    adj = np.zeros_like(matrix)\n",
        "    \n",
        "    for i in range(n):\n",
        "        for j in range(n):\n",
        "            adj[i, j] = (-1) ** (i + j) * determinant(minor(matrix, i, j))\n",
        "    \n",
        "    return adj.T\n",
        "\n",
        "def inverse(matrix):\n",
        "    det = determinant(matrix)\n",
        "    if det == 0:\n",
        "        raise ValueError(\"Matrix is singular, and its inverse does not exist.\")\n",
        "    \n",
        "    adj = adjugate(matrix)\n",
        "    inv = adj / det\n",
        "    \n",
        "    return inv\n",
        "\n",
        "A = np.array([[7, 5, 1],\n",
        "              [1, 7, 1],\n",
        "              [5, 5, 7]])\n",
        "\n",
        "inv_A_custom = inverse(A)\n",
        "print(\"Inverse using custom function:\\n\", inv_A_custom)\n",
        "\n",
        "# Check the result using np.linalg.inv\n",
        "inv_A_np = np.linalg.inv(A)\n",
        "print(\"Inverse using np.linalg.inv:\\n\", inv_A_np)"
      ]
    },
    {
      "cell_type": "markdown",
      "metadata": {},
      "source": [
        "## 2. Gauss-Jordan elimination\n",
        "#### 2-1-  Implementation\n",
        "The Gauss-Jordan Elimination method is an algorithm to solve a linear system of equations. This method solves the system by representing it as an augmented matrix, reducing it using row operations, and expressing the system in reduced row-echelon form to find the values of the variables. \\\n",
        "The function gauss_jordan_elimination takes two arguments: the matrix A representing the coefficients of the equations, and the vector b representing the constants on the right-hand side of the equations. It sets flag to 1 and returns the solution vector x if exists, else sets flag to 0 in case of 'No Solution' or 'Infinite Solutions' and prints the corresponding case.\n",
        "\n",
        "Here's an example of a system of equations $\\textbf{Ax = b}$\n",
        "\n",
        "the inputs of the function :\n",
        "\n",
        "$$\n",
        "A = \\begin{bmatrix}\n",
        "    2  & 1  & 5 \\\\\n",
        "    4  & 4  & -4 \\\\\n",
        "    1 & 3 & 1 \n",
        "\\end{bmatrix}\n",
        "$$\n",
        "\n",
        "$$\n",
        "b = \\begin{bmatrix}\n",
        "    8  \\\\\n",
        "    4  \\\\\n",
        "    5 \n",
        "\\end{bmatrix}\n",
        "$$\n",
        "\n",
        "the corresponding output :\n",
        "\n",
        "$$\n",
        "x = \\begin{bmatrix}\n",
        "    1  \\\\\n",
        "    1  \\\\\n",
        "    1 \n",
        "\\end{bmatrix}\n",
        "$$"
      ]
    },
    {
      "cell_type": "code",
      "execution_count": 1,
      "metadata": {},
      "outputs": [],
      "source": [
        "# import required packages\n",
        "import numpy as np\n",
        "import time"
      ]
    },
    {
      "cell_type": "code",
      "execution_count": 7,
      "metadata": {},
      "outputs": [
        {
          "name": "stdout",
          "output_type": "stream",
          "text": [
            "Solution:\n",
            "[1. 1. 1.]\n"
          ]
        }
      ],
      "source": [
        "def gauss_jordan_elimination(A, b):\n",
        "    A = A.astype(float)\n",
        "    b = b.astype(float)\n",
        "\n",
        "    augmented_matrix = np.hstack((A, b.reshape(-1, 1)))\n",
        "\n",
        "    n = len(augmented_matrix)\n",
        "    for i in range(n):\n",
        "        pivot_row = max(range(i, n), key=lambda k: abs(augmented_matrix[k, i]))\n",
        "        augmented_matrix[[i, pivot_row]] = augmented_matrix[[pivot_row, i]]\n",
        "\n",
        "        augmented_matrix[i] /= augmented_matrix[i, i]\n",
        "\n",
        "        for j in range(n):\n",
        "            if i != j:\n",
        "                augmented_matrix[j] -= augmented_matrix[j, i] * augmented_matrix[i]\n",
        "\n",
        "    for i in range(n):\n",
        "        if np.allclose(augmented_matrix[i, :-1], 0) and not np.isclose(augmented_matrix[i, -1], 0):\n",
        "            print(\"No Solution\")\n",
        "            return None, 0\n",
        "\n",
        "    x = augmented_matrix[:, -1]\n",
        "\n",
        "    if np.linalg.matrix_rank(A) < np.linalg.matrix_rank(augmented_matrix[:, :-1]):\n",
        "        print(\"Infinite Solutions\")\n",
        "        return None, 0\n",
        "\n",
        "    print(\"Solution:\")\n",
        "    print(x)\n",
        "    return x, 1\n",
        "\n",
        "A = np.array([[2, 1, 5],\n",
        "              [4, 4, -4],\n",
        "              [1, 3, 1]])\n",
        "\n",
        "b = np.array([8, 4, 5])\n",
        "\n",
        "solution, flag = gauss_jordan_elimination(A, b)\n"
      ]
    },
    {
      "cell_type": "code",
      "execution_count": null,
      "metadata": {},
      "outputs": [],
      "source": [
        "# Evaluation Cell\n",
        "n = 10\n",
        "A = np.zeros((10,10))\n",
        "b = np.random.randint(100, size=(10))\n",
        "while np.linalg.matrix_rank(A) != n: \n",
        "  A = np.random.randint(0,100,(n, n))\n",
        "s = time.time()\n",
        "elapsed = time.time() - s\n",
        "x, flag = gauss_jordan_elimination(A,b)\n",
        "assert flag == 1, \"flag's not set correctly\"\n",
        "assert np.linalg.norm(A @ x - b) < 1e-7, \"Ax = b is not satisfied\"\n",
        "print(f'status: successful, time elapsed: {np.round(elapsed, 5)} seconds')\n",
        "b = np.random.randint(100, size=(10))\n",
        "A = np.random.randint(0, 100, (n, n))\n",
        "U, S, V = np.linalg.svd(A)\n",
        "r = 9  \n",
        "S[r:] = 0 \n",
        "A = U.dot(np.diag(S)).dot(V)\n",
        "b = np.random.randint(100, size=(10))\n",
        "s = time.time()\n",
        "elapsed = time.time() - s\n",
        "x, flag = gauss_jordan_elimination(A,b)\n",
        "assert flag == 0, \"flag's not set correctly\"\n",
        "print(f'status: successful, time elapsed: {np.round(elapsed, 5)} seconds')"
      ]
    },
    {
      "cell_type": "markdown",
      "metadata": {},
      "source": [
        "## 3. Statistics on random matrices\n",
        "\n",
        "On average, a random matrix is invertible. But what if the random matrix has entries that are either 0 or 1 with equal probability? What is the probability that a 5 by 5 matrix whose entries are all zeros or ones is singular? And what is the average number of pivot columns? That is what you will find out in this exercise.\n",
        "\n",
        "Create random integer matrices whose entries are either 0 or 1. To find the number of pivot columns of a matrix A, complete the function getrank below.\n"
      ]
    },
    {
      "cell_type": "code",
      "execution_count": 13,
      "metadata": {},
      "outputs": [
        {
          "name": "stdout",
          "output_type": "stream",
          "text": [
            "Average Number of Pivot Columns: 4.0886\n",
            "Probability of Singularity: 0.62766\n"
          ]
        }
      ],
      "source": [
        "# Code cell\n",
        "import numpy as np\n",
        "import random\n",
        "def getrank(mat):\n",
        "    R, C = len(mat), len(mat[0])\n",
        "    rank = C\n",
        "    for row in range(0, rank):\n",
        "        if mat[row][row] != 0:\n",
        "            for col in range(0, R):\n",
        "                if col != row:\n",
        "                    multiplier = mat[col][row] / mat[row][row]\n",
        "                    for i in range(0, rank):\n",
        "                        mat[col][i] -= multiplier * mat[row][i]\n",
        "        else:\n",
        "            reduce = True\n",
        "            for i in range(row + 1, R):\n",
        "                if mat[i][row] != 0:\n",
        "                    mat[row], mat[i] = mat[i], mat[row]\n",
        "                    reduce = False\n",
        "                    break\n",
        "            if reduce:\n",
        "                rank -= 1\n",
        "                for i in range(0, R):\n",
        "                    mat[i][row] = mat[i][rank]\n",
        "    return rank\n",
        "\n",
        "A = np.zeros([5, 5])\n",
        "\n",
        "n_pivot = 0\n",
        "n_singular = 0\n",
        "\n",
        "num_trials = 100000\n",
        "\n",
        "for k in range(num_trials):\n",
        "    for i in range(5):\n",
        "        for j in range(5):\n",
        "            A[i][j] = random.randint(0, 1)\n",
        "\n",
        "    n_pivot += getrank(A.copy())  # Make sure to use a copy of A for each trial\n",
        "    if np.linalg.det(A) == 0:\n",
        "        n_singular += 1\n",
        "\n",
        "pivot_avg = n_pivot / num_trials\n",
        "singular_avg = n_singular / num_trials\n",
        "\n",
        "print(\"Average Number of Pivot Columns:\", pivot_avg)\n",
        "print(\"Probability of Singularity:\", singular_avg) "
      ]
    },
    {
      "cell_type": "code",
      "execution_count": 15,
      "metadata": {},
      "outputs": [
        {
          "name": "stderr",
          "output_type": "stream",
          "text": [
            "Matplotlib is building the font cache; this may take a moment.\n"
          ]
        },
        {
          "name": "stdout",
          "output_type": "stream",
          "text": [
            "n=10, Pivot Average: 9.388, Singular Proportion: 0.982\n",
            "n=20, Pivot Average: 19.906, Singular Proportion: 0.992\n",
            "n=40, Pivot Average: 40.0, Singular Proportion: 0.99\n",
            "n=80, Pivot Average: 80.0, Singular Proportion: 0.992\n"
          ]
        },
        {
          "data": {
            "image/png": "[encoded data removed]",
            "text/plain": [
              "<Figure size 1200x600 with 2 Axes>"
            ]
          },
          "metadata": {},
          "output_type": "display_data"
        }
      ],
      "source": [
        "# Code cell\n",
        "import numpy as np\n",
        "import random\n",
        "import matplotlib.pyplot as plt\n",
        "\n",
        "def getrank(mat):\n",
        "    R, C = len(mat), len(mat[0])\n",
        "    rank = C\n",
        "    for row in range(0, rank):\n",
        "        if mat[row][row] != 0:\n",
        "            for col in range(0, R):\n",
        "                if col != row:\n",
        "                    multiplier = mat[col][row] / mat[row][row]\n",
        "                    for i in range(0, rank):\n",
        "                        mat[col][i] -= multiplier * mat[row][i]\n",
        "        else:\n",
        "            reduce = True\n",
        "            for i in range(row + 1, R):\n",
        "                if mat[i][row] != 0:\n",
        "                    mat[row], mat[i] = mat[i], mat[row]\n",
        "                    reduce = False\n",
        "                    break\n",
        "            if reduce:\n",
        "                rank -= 1\n",
        "                for i in range(0, R):\n",
        "                    mat[i][row] = mat[i][rank]\n",
        "    return rank\n",
        "\n",
        "def generate_random_matrix(n):\n",
        "    A = np.zeros([n, n])\n",
        "    for i in range(n):\n",
        "        for j in range(n):\n",
        "            A[i][j] = random.randint(0, 1)\n",
        "    return A\n",
        "\n",
        "def explore_matrix_sizes(nvalues, num_trials):\n",
        "    probabilities = []\n",
        "    avg_pivots = []\n",
        "\n",
        "    for n in nvalues:\n",
        "        n_pivot = 0\n",
        "        n_singular = 0\n",
        "\n",
        "        for k in range(num_trials):\n",
        "            A = generate_random_matrix(n)\n",
        "            n_pivot += getrank(A)\n",
        "\n",
        "            if np.linalg.det(A) == 0:\n",
        "                n_singular += 1\n",
        "\n",
        "        pivot_avg = n_pivot / num_trials\n",
        "        singular_avg = n_singular / num_trials\n",
        "        probabilities.append(singular_avg)\n",
        "        avg_pivots.append(pivot_avg)\n",
        "\n",
        "        print(f\"n={n}, Pivot Average: {pivot_avg}, Singular Proportion: {singular_avg}\")\n",
        "\n",
        "    return probabilities, avg_pivots\n",
        "\n",
        "nvalues = [10, 20, 40, 80]\n",
        "num_trials = 500\n",
        "\n",
        "probabilities, avg_pivots = explore_matrix_sizes(nvalues, num_trials)\n",
        "\n",
        "# Plotting\n",
        "plt.figure(figsize=(12, 6))\n",
        "\n",
        "plt.subplot(1, 2, 1)\n",
        "plt.plot(nvalues, probabilities, marker='o')\n",
        "plt.title('Probability of Singularity vs Matrix Size')\n",
        "plt.xlabel('Matrix Size (n)')\n",
        "plt.ylabel('Probability of Singularity')\n",
        "\n",
        "plt.subplot(1, 2, 2)\n",
        "plt.plot(nvalues, avg_pivots, marker='o')\n",
        "plt.title('Average Number of Pivots vs Matrix Size')\n",
        "plt.xlabel('Matrix Size (n)')\n",
        "plt.ylabel('Average Number of Pivots')\n",
        "\n",
        "plt.tight_layout()\n",
        "plt.show()\n"
      ]
    },
    {
      "cell_type": "markdown",
      "metadata": {},
      "source": [
        "We've looked at random matrices whose entries are 0 or 1. But how does size effect the rank and the probability of being singular? Repeat the previous exercise for 10 by 10 matrices with entries that are 0 or 1.\n",
        "\n",
        "Explore and plot the probability of singularity and the average number of pivots for different sizes of random matrices. Can you determine how this probability depends on the size of the matrix? You might try to find the probability of a 10 by 10 random matrix with entries 0 or 1 has rank 10, 9, 8, 7 etc. You can check your probabilities against the expected value to see if your probabilities match your observations. You might try to connect these probabilities with determinant formulas to see if you can predict the numbers from other formulas and prove a relationship. Happy explorations!\n",
        "\n",
        " guess what happens as $n \\rightarrow \\infty $\n",
        ", but only run up to 80"
      ]
    },
    {
      "cell_type": "code",
      "execution_count": 16,
      "metadata": {},
      "outputs": [
        {
          "name": "stdout",
          "output_type": "stream",
          "text": [
            "n=5, Pivot Average: 4.05, Singular Proportion: 0.892\n",
            "n=10, Pivot Average: 9.348, Singular Proportion: 0.99\n",
            "n=20, Pivot Average: 19.924, Singular Proportion: 0.984\n",
            "n=40, Pivot Average: 39.992, Singular Proportion: 0.988\n",
            "n=80, Pivot Average: 80.0, Singular Proportion: 0.994\n"
          ]
        }
      ],
      "source": [
        "# Code cell\n",
        "import numpy as np\n",
        "import random\n",
        "\n",
        "def getrank(mat):\n",
        "    R, C = len(mat), len(mat[0])\n",
        "    rank = C\n",
        "    for row in range(0, rank):\n",
        "        if mat[row][row] != 0:\n",
        "            for col in range(0, R):\n",
        "                if col != row:\n",
        "                    multiplier = mat[col][row] / mat[row][row]\n",
        "                    for i in range(0, rank):\n",
        "                        mat[col][i] -= multiplier * mat[row][i]\n",
        "        else:\n",
        "            reduce = True\n",
        "            for i in range(row + 1, R):\n",
        "                if mat[i][row] != 0:\n",
        "                    mat[row], mat[i] = mat[i], mat[row]\n",
        "                    reduce = False\n",
        "                    break\n",
        "            if reduce:\n",
        "                rank -= 1\n",
        "                for i in range(0, R):\n",
        "                    mat[i][row] = mat[i][rank]\n",
        "    return rank\n",
        "\n",
        "nvalues = [5, 10, 20, 40, 80]\n",
        "num = 500\n",
        "\n",
        "for n in nvalues:\n",
        "    n_pivot = 0\n",
        "    n_singular = 0\n",
        "    for k in range(num):\n",
        "        A = np.zeros([n, n])\n",
        "        for i in range(n):\n",
        "            for j in range(n):\n",
        "                A[i][j] = random.randint(0, 1)\n",
        "        n_pivot += getrank(A)\n",
        "        if np.linalg.det(A) == 0:\n",
        "            n_singular += 1\n",
        "    \n",
        "    pivot_avg = n_pivot / num\n",
        "    singular_avg = n_singular / num\n",
        "    print(f\"n={n}, Pivot Average: {pivot_avg}, Singular Proportion: {singular_avg}\")\n"
      ]
    },
    {
      "cell_type": "markdown",
      "metadata": {},
      "source": [
        "## 4. Application of Cholesky decomposition\n",
        "#### 4-1-  Cholesky decomposition\n",
        "In linear algebra, LU decomposition factors a matrix ($\\textbf{A} :n \\times n$) as the product of a lower triangular matrix ($\\textbf{L} :n \\times n$) and an upper triangular matrix ($\\textbf{U} :n \\times n$). The product sometimes includes a permutation matrix ($\\textbf{P} :n \\times n$) as well.\n",
        "$$ \\textbf{PA} = \\textbf{LU} $$\n",
        "We know that the elements on the main diagonal of the $\\textbf{U}$ are the pivots. So $\\textbf{U}$ can be decomposed into a diagonal matrix ($\\textbf{D} :n \\times n$) with elements whose pivots are on the main diagonal and a normalized $\\textbf{U}$ matrix.\n",
        "$$ \\textbf{PA} = \\textbf{LDU}  $$\n",
        "if the A is symmetric then we have the Cholesky decomposition :\n",
        "$$\n",
        "\\mathbf{A}^T=\\mathbf{A} \\longrightarrow \\mathbf{A} =LD^\\frac{1}{2}D^\\frac{1}{2} L^T= (LD^\\frac{1}{2})(LD^\\frac{1}{2})^T=L'{L'} ^T\n",
        "$$\n",
        "There are various methods for calculating the Cholesky decomposition one of them is $\\bold{Cholesky–Banachiewicz}$ algorithm :\n",
        "$$\n",
        "A=LL^T=\\begin{bmatrix}\n",
        "    L_{11}& 0 & 0\\\\\n",
        "    L_{21} & L_{22} & 0\\\\\n",
        "    L_{31}  & L_{32}  & L_{33} \n",
        "\\end{bmatrix}\\begin{bmatrix}\n",
        "    L_{11}  & L_{21}  & L_{31} \\\\\n",
        "    0  & L_{22}  & L_{32} \\\\\n",
        "    0 & 0 & L_{33} \n",
        "\\end{bmatrix}=\\begin{bmatrix}\n",
        "    L_{11}^2  &   & (symmetric) \\\\\n",
        "    L_{21}L_{11}  & L_{21}^2+L_{22}^2  &  \\\\\n",
        "    L_{31}L_{11}& L_{31}L_{21}+L_{32}L_{22}& L_{33}^2+L_{32}^2+L_{31}^2 \n",
        "\\end{bmatrix}\n",
        "$$\n",
        "\n",
        "and therefore the following formulas for the entries of L:\n",
        "\n",
        "$$\n",
        "L_{jj}=\\sqrt{A_{jj}-\\sum_{k=1}^{j-1}L_{jk}^2} \\\\\n",
        "\\\\\n",
        "L_{i,j}=\\frac{\\left(A_{ij}-\\sum_{k=1}^{j-1}L_{jk}L_{ik}\\right)}{L_{jj}} \\  \\ for \\ \\ i>j\n",
        "$$\n",
        "\n",
        "> Use this algorithm to write a function that takes a matrix and gives its cholesky decomposition. also print the output for the following matrix :\n",
        "$$\n",
        "\\mathbf{C}=\n",
        "\\begin{bmatrix}\n",
        "    1 & 0.7 \\\\\n",
        "    0.7 & 1\n",
        "\\end{bmatrix}\n",
        "$$ \n",
        "\n",
        "\n",
        "> then use np.linalg.cholesky to check your answer "
      ]
    },
    {
      "cell_type": "code",
      "execution_count": 19,
      "metadata": {},
      "outputs": [
        {
          "name": "stdout",
          "output_type": "stream",
          "text": [
            "Cholesky decomposition using custom function:\n",
            " [[1.         0.        ]\n",
            " [0.7        0.71414284]]\n",
            "Cholesky decomposition using np.linalg.cholesky:\n",
            " [[1.         0.        ]\n",
            " [0.7        0.71414284]]\n"
          ]
        }
      ],
      "source": [
        "import numpy as np\n",
        "\n",
        "def cholesky_decomposition(A):\n",
        "    n = len(A)\n",
        "    L = np.zeros_like(A, dtype=float)\n",
        "\n",
        "    for j in range(n):\n",
        "        for i in range(j, n):\n",
        "            if i == j:\n",
        "                # Diagonal elements\n",
        "                L[i, j] = np.sqrt(A[i, i] - np.sum(L[i, :j] ** 2))\n",
        "            else:\n",
        "                # Off-diagonal elements\n",
        "                L[i, j] = (A[i, j] - np.sum(L[i, :j] * L[j, :j])) / L[j, j]\n",
        "\n",
        "    return L\n",
        "\n",
        "# Given matrix C\n",
        "C = np.array([[1, 0.7],\n",
        "              [0.7, 1]])\n",
        "\n",
        "# Calculate Cholesky decomposition using the custom function\n",
        "L_custom = cholesky_decomposition(C)\n",
        "print(\"Cholesky decomposition using custom function:\\n\", L_custom)\n",
        "\n",
        "# Check with np.linalg.cholesky\n",
        "L_np = np.linalg.cholesky(C)\n",
        "print(\"Cholesky decomposition using np.linalg.cholesky:\\n\", L_np)\n"
      ]
    },
    {
      "cell_type": "markdown",
      "metadata": {},
      "source": [
        "#### 4-2-  Using Cholesky to generate correlated random numbers\n",
        "\n",
        "The co-variance Matrix of any random vector Y\n",
        " is given as $\\mathbf{E}(YY^T)$\n",
        ", where Y\n",
        " is a random column vector of size n×1\n",
        ". Now take a random vector, X\n",
        ", consisting of uncorrelated random variables with each random variable, $X_i$\n",
        ", having zero mean and unit variance 1\n",
        ". Since $X_i$\n",
        "'s are uncorrelated random variables with zero mean and unit variance, we have $\\mathbf{E}(X_i X_j^T)=δ_{ij}$\n",
        ". Hence,\n",
        "$$\n",
        "\\mathbf{E}(XX^T)=I\n",
        "$$\n",
        "To generate a random vector with a given covariance matrix $\\mathbf{C}$\n",
        ", look at the Cholesky decomposition of $C$\n",
        " i.e. $\\mathbf{C}=LL^T$\n",
        " \n",
        "Now look at the random vector $Z=LX$ :\n",
        "$$\n",
        "\\mathbf{E}(ZZ^T)=\\mathbf{E}\\left((LX)(LX)^T\\right)=L\\mathbf{E}(XX^T)L^T =LL^T=\\mathbf{C}\n",
        "$$\n",
        "Hence, the random vector $\\mathbf{Z}$\n",
        " has the desired co-variance matrix, $\\mathbf{C}$\n",
        "\n",
        " >Make the covarience matirx of $C$\n",
        "  $$\n",
        "\\mathbf{C}=\n",
        "\\begin{bmatrix}\n",
        "    1 & 0.7 \\\\\n",
        "    0.7 & 1\n",
        "\\end{bmatrix}\n",
        "$$ \n",
        "\n",
        " \n",
        " >Then we need another matrix with the desired standard deviation in the diagonal  $\\Tau$\n",
        " $$\n",
        "\\mathbf{\\Tau}=\n",
        "\\begin{bmatrix}\n",
        "    1 & 0 \\\\\n",
        "    0 & 2\n",
        "\\end{bmatrix}\n",
        "$$ \n",
        ">Then find the cholesky decomposition of $C$\n"
      ]
    },
    {
      "cell_type": "code",
      "execution_count": 20,
      "metadata": {},
      "outputs": [
        {
          "name": "stdout",
          "output_type": "stream",
          "text": [
            "Cholesky Decomposition:\n",
            "[[1.         0.        ]\n",
            " [0.7        0.71414284]]\n",
            "\n",
            "Reconstructed C:\n",
            "[[1.  0.7]\n",
            " [0.7 1. ]]\n",
            "\n",
            "Covariance matrix of Z:\n",
            "[[1.00308245 0.69911745]\n",
            " [0.69911745 1.00896805]]\n"
          ]
        }
      ],
      "source": [
        "import numpy as np\n",
        "\n",
        "def cholesky_decomposition(matrix):\n",
        "    n = len(matrix)\n",
        "    L = np.zeros_like(matrix, dtype=float)\n",
        "\n",
        "    for i in range(n):\n",
        "        for j in range(i + 1):\n",
        "            sum_val = sum(L[i, k] * L[j, k] for k in range(j))\n",
        "            if i == j:\n",
        "                L[i, j] = np.sqrt(matrix[i, i] - sum_val)\n",
        "            else:\n",
        "                L[i, j] = (1.0 / L[j, j] * (matrix[i, j] - sum_val))\n",
        "\n",
        "    return L\n",
        "\n",
        "# Covariance matrix\n",
        "C = np.array([[1, 0.7],\n",
        "               [0.7, 1]])\n",
        "\n",
        "# Check if C is symmetric positive definite\n",
        "if not np.allclose(C, C.T) or not np.all(np.linalg.eigvals(C) > 0):\n",
        "    print(\"Matrix is not symmetric positive definite.\")\n",
        "else:\n",
        "    # Cholesky Decomposition\n",
        "    L = cholesky_decomposition(C)\n",
        "    print(\"Cholesky Decomposition:\")\n",
        "    print(L)\n",
        "\n",
        "    # Reconstructed C\n",
        "    reconstructed_C = np.dot(L, L.T)\n",
        "    print(\"\\nReconstructed C:\")\n",
        "    print(reconstructed_C)\n",
        "\n",
        "    # Diagonal matrix with desired standard deviations\n",
        "    Tau = np.diag([1, 2])\n",
        "\n",
        "    # Generate random numbers\n",
        "    X = np.random.normal(0, 1, size=(2, 10000))\n",
        "    Z = np.dot(L, X)\n",
        "\n",
        "    # Covariance matrix of Z\n",
        "    covariance_Z = np.cov(Z)\n",
        "    print(\"\\nCovariance matrix of Z:\")\n",
        "    print(covariance_Z)\n"
      ]
    },
    {
      "cell_type": "markdown",
      "metadata": {},
      "source": [
        ">Now  generate values for 2 independent random variables and put them in  2*1000 matrix $X$ (1000 samples)\n",
        "\n",
        "you can use np.random.normal ( generates iid random variables each time )"
      ]
    },
    {
      "cell_type": "code",
      "execution_count": 21,
      "metadata": {},
      "outputs": [
        {
          "name": "stdout",
          "output_type": "stream",
          "text": [
            "Covariance matrix of the final random variables:\n",
            " [[1.12831483 1.54378666]\n",
            " [1.54378666 4.17226263]]\n"
          ]
        }
      ],
      "source": [
        "import numpy as np\n",
        "\n",
        "C = np.array([[1, 0.7],\n",
        "              [0.7, 1]])\n",
        "\n",
        "Tau = np.array([[1, 0],\n",
        "                [0, 2]])\n",
        "\n",
        "L = np.linalg.cholesky(C)\n",
        "\n",
        "n_samples = 1000\n",
        "\n",
        "X = np.random.normal(0, 1, size=(2, n_samples))\n",
        "\n",
        "correlated_random_variables = np.dot(L, X)\n",
        "\n",
        "final_random_variables = np.dot(Tau, correlated_random_variables)\n",
        "\n",
        "covariance_matrix_final = np.cov(final_random_variables)\n",
        "print(\"Covariance matrix of the final random variables:\\n\", covariance_matrix_final)\n"
      ]
    },
    {
      "cell_type": "markdown",
      "metadata": {},
      "source": [
        ">then calculate $\\mathbf{Z}=\\Tau L X$ and then plot Z[1] in base of Z[0] and X[1] in base of X[0] "
      ]
    },
    {
      "cell_type": "code",
      "execution_count": 22,
      "metadata": {},
      "outputs": [
        {
          "data": {
            "image/png": "[encoded data removed]",
            "text/plain": [
              "<Figure size 1200x600 with 2 Axes>"
            ]
          },
          "metadata": {},
          "output_type": "display_data"
        }
      ],
      "source": [
        "# Code cell\n",
        "import matplotlib.pyplot as plt\n",
        "X\n",
        "Z = np.dot(Tau, np.dot(L, X))\n",
        "X_standardized = np.dot(Tau, X)\n",
        "\n",
        "plt.figure(figsize=(12, 6))\n",
        "plt.subplot(1, 2, 1)\n",
        "plt.scatter(Z[0], Z[1], marker='o', color='blue')\n",
        "plt.title('Correlated Random Variables (Z)')\n",
        "plt.xlabel('Z[0]')\n",
        "plt.ylabel('Z[1]')\n",
        "\n",
        "plt.subplot(1, 2, 2)\n",
        "plt.scatter(X_standardized[0], X_standardized[1], marker='o', color='red')\n",
        "plt.title('Independent Random Variables (X)')\n",
        "plt.xlabel('X[0]')\n",
        "plt.ylabel('X[1]')\n",
        "\n",
        "plt.tight_layout()\n",
        "plt.show()\n"
      ]
    },
    {
      "cell_type": "markdown",
      "metadata": {},
      "source": [
        ">now  check the correlation in generated samples with using np.correlate"
      ]
    },
    {
      "cell_type": "code",
      "execution_count": 23,
      "metadata": {},
      "outputs": [
        {
          "name": "stdout",
          "output_type": "stream",
          "text": [
            "Correlation matrix for X:\n",
            " [[ 1.         -0.02351084]\n",
            " [-0.02351084  1.        ]]\n",
            "Correlation matrix for Z:\n",
            " [[1.        0.7115187]\n",
            " [0.7115187 1.       ]]\n"
          ]
        }
      ],
      "source": [
        "# Code cell\n",
        "correlation_matrix_X = np.corrcoef(X[0], X[1])\n",
        "print(\"Correlation matrix for X:\\n\", correlation_matrix_X)\n",
        "\n",
        "correlation_matrix_Z = np.corrcoef(Z[0], Z[1])\n",
        "print(\"Correlation matrix for Z:\\n\", correlation_matrix_Z)\n"
      ]
    },
    {
      "cell_type": "markdown",
      "metadata": {},
      "source": [
        "## 5. Graphs (bonus)\n",
        "\n",
        "I suggest running this question's code cells in google colab to install the $\\textbf{PyGSP}$ package by  simply running the following code cell"
      ]
    },
    {
      "cell_type": "code",
      "execution_count": null,
      "metadata": {},
      "outputs": [],
      "source": [
        "%pip install pygsp"
      ]
    },
    {
      "cell_type": "markdown",
      "metadata": {},
      "source": [
        "\n",
        "<!-- ![]( graph.png) -->\n",
        "<div style=\"text-align:center\">\n",
        "    <img src=\"graph.png\" alt=\"Image\" />\n",
        "</div> \n",
        "\n",
        "\n",
        "For the directed graph above the adjacency matrix is : \n",
        "$\n",
        "A = \\begin{bmatrix}\n",
        "    0  & 1  & 1 & 0\\\\\n",
        "    -1  & 0  & 1 & 1 \\\\\n",
        "    -1 & -1 & 0 & 1 \\\\\n",
        "    0  & -1  & -1 & 0\n",
        "\\end{bmatrix}\n",
        "$ \n",
        "\n",
        "If we change the nodes numbering, the properties of the graph don't change yet the adjacency matrix changes. \n"
      ]
    },
    {
      "cell_type": "code",
      "execution_count": null,
      "metadata": {},
      "outputs": [],
      "source": [
        "# import required packages\n",
        "import numpy as np\n",
        "import matplotlib.pyplot as plt\n",
        "from pygsp import graphs, filters, plotting\n",
        "import cv2"
      ]
    },
    {
      "cell_type": "markdown",
      "metadata": {},
      "source": [
        "\n",
        "#### 5-1-  Introduction to graphs \n",
        ">construct the permutation matrix $\\textbf{P}$ by modifying the Identity matrix. then use it to number the graph's nodes in reverse order"
      ]
    },
    {
      "cell_type": "code",
      "execution_count": 2,
      "metadata": {},
      "outputs": [
        {
          "data": {
            "image/png": "[encoded data removed]",
            "text/plain": [
              "<Figure size 1200x500 with 2 Axes>"
            ]
          },
          "metadata": {},
          "output_type": "display_data"
        }
      ],
      "source": [
        "# Code cell\n",
        "import numpy as np\n",
        "import matplotlib.pyplot as plt\n",
        "from pygsp import graphs, plotting\n",
        "\n",
        "A = np.array([[0, 1, 1, 0],\n",
        "              [-1, 0, 1, 1],\n",
        "              [-1, -1, 0, 1],\n",
        "              [0, -1, -1, 0]])\n",
        "\n",
        "n = A.shape[0]\n",
        "\n",
        "P = np.eye(n)[::-1]\n",
        "\n",
        "A_permuted = np.dot(P.T, np.dot(A, P))\n",
        "\n",
        "coords = np.array([[0, 0], [1, 0], [1, 1], [0, 1]])\n",
        "\n",
        "G_original = graphs.Graph(A, coords=coords)\n",
        "G_permuted = graphs.Graph(A_permuted, coords=coords)\n",
        "\n",
        "fig, axes = plt.subplots(1, 2, figsize=(12, 5))\n",
        "\n",
        "plotting.plot_graph(G_original, ax=axes[0])\n",
        "axes[0].set_title('Original Graph')\n",
        "\n",
        "plotting.plot_graph(G_permuted, ax=axes[1])\n",
        "axes[1].set_title('Permuted Graph')\n",
        "\n",
        "plt.show()\n",
        "\n",
        "# Evaluation Cell\n",
        "A_modified = A_permuted\n",
        "assert np.array_equal(A_modified, np.matrix('0 -1 -1 0; 1 0 -1 -1; 1 1 0 -1; 0 1 1 0')), \"wrong!\"\n"
      ]
    },
    {
      "cell_type": "code",
      "execution_count": null,
      "metadata": {},
      "outputs": [],
      "source": [
        "# Evaluation Cell\n",
        "assert A_modified == np.matrix('0 -1 -1 0; 1 0 -1 -1; 1 1 0 -1; 0 1 1 0'), \"wrong!\""
      ]
    },
    {
      "cell_type": "markdown",
      "metadata": {},
      "source": [
        "#### 5-2-  Graph image processing  \n",
        "\n",
        "Inpainting is a classical signal processing problem where we wish to fill in the missing values in a\n",
        "partially observed signal. This is here done in the context of image processing for inferring missing pixel values in\n",
        "an image. The signal in the image is considered to be the image matrix flattened while the image is modeled as a 2D grid graph.\n",
        "Inpainting for an image can be formulated as below:\n",
        "\n",
        "$$(M + \\alpha L)x = y$$\n",
        "\n",
        "where y is a partially observed graph signal (with missing values being 0), and M is a diagonal matrix that satisfies:\n",
        " $$ M(i, i)=   \\left\\{\n",
        "\\begin{array}{ll}\n",
        "      1, & if & y(i) & is & observed, \\\\\n",
        "      0, & if & y(i) & is & not & observed, \\\\\n",
        "\\end{array} \n",
        "\\right.  $$\n",
        "\n",
        "The Equation tries to find an x that nearly matches the observed values in y, and at the same time\n",
        "being smooth on the graph (the image here). The regularisation parameter α controls the trade-off between the data fidelity term and the\n",
        "smoothness prior. The solution can therefore be considered as an inpainted version of the partially observed signal."
      ]
    },
    {
      "cell_type": "markdown",
      "metadata": {},
      "source": [
        ">Use the cv2 package to load a grayscale version of the cameraman image with a relatively low resolution, 64 by 64, then display the image using matplotlib.pyplot\n",
        "\n",
        "- do not forget to convert RGB to gray to reduce the 3 color channels to one"
      ]
    },
    {
      "cell_type": "code",
      "execution_count": null,
      "metadata": {},
      "outputs": [],
      "source": [
        "# Code cell"
      ]
    },
    {
      "cell_type": "markdown",
      "metadata": {},
      "source": [
        ">Now flatten the image matrix to get the signal\\\n",
        ">Then, construct the diagonal matrix M which has its diagonal 0 except for $p = 50%$ of its elements that are randomly set to 1\\\n",
        ">At last, apply the observasion matrix M to the signal and construct y "
      ]
    },
    {
      "cell_type": "code",
      "execution_count": null,
      "metadata": {},
      "outputs": [],
      "source": [
        "# Code cell"
      ]
    },
    {
      "cell_type": "code",
      "execution_count": null,
      "metadata": {},
      "outputs": [],
      "source": [
        "# do not edit this cell \n",
        "G = graphs.Grid2d(64,64)\n",
        "L = G.L"
      ]
    },
    {
      "cell_type": "markdown",
      "metadata": {},
      "source": [
        ">To get x, apply the $\\textbf{Cholesky decomposition}$ to ( $M+\\alpha L$ ) and then solve the stated equation applying np.linalg.inv() to the two terms multiplied by x ( note that L is given by the code cell above )\n",
        "- check the soloution with \"np.linalg.solve()\""
      ]
    },
    {
      "cell_type": "code",
      "execution_count": null,
      "metadata": {},
      "outputs": [],
      "source": [
        "# Code cell"
      ]
    },
    {
      "cell_type": "markdown",
      "metadata": {},
      "source": [
        ">For values of alpha 0.001 , 0.1 , 10 and p values 50 , 75 display the original, the damaged and the Inpainted image in subplots"
      ]
    },
    {
      "cell_type": "code",
      "execution_count": null,
      "metadata": {},
      "outputs": [],
      "source": [
        "# Code cell"
      ]
    }
  ],
  "metadata": {
    "colab": {
      "provenance": []
    },
    "kernelspec": {
      "display_name": "base",
      "language": "python",
      "name": "python3"
    },
    "language_info": {
      "codemirror_mode": {
        "name": "ipython",
        "version": 3
      },
      "file_extension": ".py",
      "mimetype": "text/x-python",
      "name": "python",
      "nbconvert_exporter": "python",
      "pygments_lexer": "ipython3",
      "version": "3.10.6"
    },
    "orig_nbformat": 4,
    "vscode": {
      "interpreter": {
        "hash": "a552c2ea7a7b6736ba4a8b66efcb40eda8d77c5e9d980e5b81f29aecaaefb085"
      }
    }
  },
  "nbformat": 4,
  "nbformat_minor": 0
}
